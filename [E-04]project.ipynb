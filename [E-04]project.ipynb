{
 "cells": [
  {
   "cell_type": "markdown",
   "id": "abf71649",
   "metadata": {},
   "source": [
    "# 목차\n",
    " * 프로젝트 준비단계\n",
    " * 프로젝트: 멋진 작사가 만들기\n",
    " \n",
    " \n",
    "# 루브릭 평가 기준\n",
    " 1. 가사 텍스트 생성 모델이 정상적으로 동작하는가?\n",
    " 2. 데이터의 전처리와 데이터셋 구성 과정이 체계적으로 진행되었는가?\n",
    " 3. 텍스트 생성모델이 안정적으로 학습되었는가?\n",
    "\n",
    " \n",
    "# 소감\n",
    " 자연어처리라는 것을 처음 접해본다. \n",
    " 분명 어려울것이고 여전히 나의 목표인 하나하나 뜯어보기는 오늘도 실패이다. \n",
    " 과제에서 본 데이터양을 딱 맞추지 못했고 \"와 신기하다 라는 생각까지는 안든다....\" \n",
    " 점점 해야하는 공부량은 늘어나고 있는데 아직 기초단계에서 헤엄치고 있고 자꾸 접하다 보면 하나하나 이해할 날이 올거라고 믿는다\n",
    " 자연어 처리쪽으로 진로를 선택하면 어떨까 고민을 하게 하는 프로젝트 였다. \n",
    " "
   ]
  },
  {
   "cell_type": "markdown",
   "id": "8eaa2f69",
   "metadata": {},
   "source": [
    "# 프로젝트 준비단계 "
   ]
  },
  {
   "cell_type": "markdown",
   "id": "99f4a668",
   "metadata": {},
   "source": [
    "앞에서 먹었다 를 만드는 법은 배웠지만, 가장 첫 시작인 나는 은 어떻게 만들어야 할까요?\n",
    "\n",
    "이는 <start> 라는 특수한 토큰을 맨 앞에 추가해 줌으로써 해결할 수 있습니다. 인공지능에게 \"자, 이제 어떤 문장이든 생성해봐!\" 라는 사인을 주는 셈인 거죠. <start> 를 입력으로 받은 순환신경망은 다음 단어로 나는 을 생성하고, 생성한 단어를 다시 입력으로 사용합니다. 이 순환적인 특성을 살려 순환신경망이라고 이름을 붙인 것이죠!\n",
    "\n",
    "그렇게 순차적으로 밥을 먹었다 까지 생성하고 나면, 인공지능은 \"다 만들었어!\" 라는 사인으로 <end> 라는 특수한 토큰을 생성합니다. 즉, 우리는 <start> 가 문장의 시작에 더해진 입력 데이터(문제지)와, <end> 가 문장의 끝에 더해진 출력 데이터(답안지)가 필요하며, 이는 문장 데이터만 있으면 만들어낼 수 있다는 것 또한 알 수 있습니다."
   ]
  },
  {
   "cell_type": "code",
   "execution_count": 1,
   "id": "d1bdb243",
   "metadata": {},
   "outputs": [
    {
     "name": "stdout",
     "output_type": "stream",
     "text": [
      "Source 문장: <start> 나는 밥을 먹었다 \n",
      "Target 문장:  나는 밥을 먹었다 <end>\n"
     ]
    }
   ],
   "source": [
    "sentence = \" 나는 밥을 먹었다 \"\n",
    "\n",
    "source_sentence = \"<start>\" + sentence\n",
    "target_sentence = sentence + \"<end>\"\n",
    "\n",
    "print(\"Source 문장:\", source_sentence)\n",
    "print(\"Target 문장:\", target_sentence)"
   ]
  },
  {
   "cell_type": "markdown",
   "id": "2094b799",
   "metadata": {},
   "source": [
    "## 실습(1) 데이터 다듬기 - 데이터 전처리\n",
    "\n",
    "이번 실습에서는 연극의 대사를 학습해서 스스로 연극 대사 문장을 생성해내는 언어 모델 인공지능을 만들 겁니다"
   ]
  },
  {
   "cell_type": "markdown",
   "id": "75d1724e",
   "metadata": {},
   "source": [
    "### 데이터 다운로드\n",
    "$ mkdir -p ~/aiffel/lyricist/models \n",
    "$ ln -s ~/data ~/aiffel/lyricist/data\n"
   ]
  },
  {
   "cell_type": "code",
   "execution_count": 26,
   "id": "9f63832e",
   "metadata": {},
   "outputs": [
    {
     "name": "stdout",
     "output_type": "stream",
     "text": [
      "['First Citizen:', 'Before we proceed any further, hear me speak.', '', 'All:', 'Speak, speak.', '', 'First Citizen:', 'You are all resolved rather to die than to famish?', '']\n",
      "데이터 크기: 40000\n"
     ]
    }
   ],
   "source": [
    "import os, re \n",
    "import numpy as np\n",
    "import tensorflow as tf\n",
    "\n",
    "# 파일을 읽기모드로 열고\n",
    "# 라인 단위로 끊어서 list 형태로 읽어옵니다.\n",
    "file_path = os.getenv('HOME') + '/aiffel/lyricist/data/shakespeare.txt'\n",
    "with open(file_path, \"r\") as f:\n",
    "    raw_corpus = f.read().splitlines()\n",
    "\n",
    "# 앞에서부터 10라인만 화면에 출력해 볼까요?\n",
    "print(raw_corpus[:9])\n",
    "print(\"데이터 크기:\", len(raw_corpus))\n"
   ]
  },
  {
   "cell_type": "markdown",
   "id": "9ece5530",
   "metadata": {},
   "source": [
    "==> 1차 필터링하기\n",
    "완벽한 연극 대본이군요! 하지만 우린 문장(대사) 만을 원하므로 화자 이름이나 공백뿐인 정보는 필요가 없습니다.\n",
    "화자가 표기된 문장은 문장의 끝이 :로 끝나게 되어 있죠. \n",
    "일반적으로 대사가 : 로 끝나는 일은 없을테니, : 를 기준으로 문장을 제외해도 괜찮을 것 같습니다. \n",
    "그리고 공백인 문장은 길이를 검사하여 길이가 0이라면 제외를 시키죠!"
   ]
  },
  {
   "cell_type": "code",
   "execution_count": 6,
   "id": "a10689c5",
   "metadata": {},
   "outputs": [
    {
     "name": "stdout",
     "output_type": "stream",
     "text": [
      "Before we proceed any further, hear me speak.\n",
      "Speak, speak.\n",
      "You are all resolved rather to die than to famish?\n"
     ]
    }
   ],
   "source": [
    "for idx, sentence in enumerate(raw_corpus):\n",
    "    if len(sentence) == 0: continue   # 길이가 0인 문장은 건너뜁니다.\n",
    "    if sentence[-1] == \":\": continue  # 문장의 끝이 : 인 문장은 건너뜁니다.\n",
    "\n",
    "    if idx > 9: break   # 일단 문장 10개만 확인해 볼 겁니다.\n",
    "        \n",
    "    print(sentence)"
   ]
  },
  {
   "cell_type": "markdown",
   "id": "df1be5b4",
   "metadata": {},
   "source": [
    "### 토큰화\n",
    "\n",
    "텍스트 분류 모델에서 많이 보신 것처럼 텍스트 생성 모델에도 단어 사전을 만들게 됩니다. \n",
    "그렇다면 문장을 일정한 기준으로 쪼개야겠죠? 그 과정을 토큰화(Tokenize) 라고 합니다.\n",
    "\n",
    "가장 심플한 방법은 띄어쓰기를 기준으로 나누는 방법이고, 우리도 그 방법을 사용할 겁니다. \n",
    "하지만 약간의 문제가 있을 수 있죠. \n",
    "몇 가지 문제 케이스를 살펴보죠.\n",
    "\n",
    "1. Hi, my name is John. *(\"Hi,\" \"my\", ..., \"john.\" 으로 분리됨) - 문장부호  ==>  문장 부호 양쪽에 공백을 추가 \n",
    "\n",
    "2. First, open the first chapter. *(First와 first를 다른 단어로 인식) - 대소문자 ==> 모든 문자들을 소문자로 변환\n",
    "\n",
    "3. He is a ten-year-old boy. *(ten-year-old를 한 단어로 인식) - 특수문자 ==> 특수문자들은 모두 제거\n",
    "\n",
    "\n",
    "이런 전처리를 위해 정규표현식(Regex)을 이용한 필터링이 유용하게 사용된다"
   ]
  },
  {
   "cell_type": "code",
   "execution_count": 8,
   "id": "537d8033",
   "metadata": {},
   "outputs": [
    {
     "name": "stdout",
     "output_type": "stream",
     "text": [
      "<start> this is sample sentence . <end>\n"
     ]
    }
   ],
   "source": [
    "# 입력된 문장을\n",
    "#     1. 소문자로 바꾸고, 양쪽 공백을 지웁니다\n",
    "#     2. 특수문자 양쪽에 공백을 넣고\n",
    "#     3. 여러개의 공백은 하나의 공백으로 바꿉니다\n",
    "#     4. a-zA-Z?.!,¿가 아닌 모든 문자를 하나의 공백으로 바꿉니다\n",
    "#     5. 다시 양쪽 공백을 지웁니다\n",
    "#     6. 문장 시작에는 <start>, 끝에는 <end>를 추가합니다\n",
    "# 이 순서로 처리해주면 문제가 되는 상황을 방지할 수 있겠네요!\n",
    "def preprocess_sentence(sentence):\n",
    "    sentence = sentence.lower().strip() # 1\n",
    "    sentence = re.sub(r\"([?.!,¿])\", r\" \\1 \", sentence) # 2\n",
    "    sentence = re.sub(r'[\" \"]+', \" \", sentence) # 3\n",
    "    sentence = re.sub(r\"[^a-zA-Z?.!,¿]+\", \" \", sentence) # 4\n",
    "    sentence = sentence.strip() # 5\n",
    "    sentence = '<start> ' + sentence + ' <end>' # 6\n",
    "    return sentence\n",
    "\n",
    "# 이 문장이 어떻게 필터링되는지 확인해 보세요.\n",
    "print(preprocess_sentence(\"This @_is ;;;sample        sentence.\"))"
   ]
  },
  {
   "cell_type": "markdown",
   "id": "06a1b3d0",
   "metadata": {},
   "source": [
    "### 정제 데이터 구축\n",
    "자연어처리 분야에서 모델의 입력이 되는 문장을 소스 문장(Source Sentence) , \n",
    "정답 역할을 하게 될 모델의 출력 문장을 타겟 문장(Target Sentence) 라고 관례적으로 부릅니다. \n",
    "각각 X_train, y_train 에 해당한다고 할 수 있겠죠?\n",
    "\n",
    "그렇다면 우리는 위에서 만든 정제 함수를 통해 만든 데이터셋에서 토큰화를 진행한 후 끝 단어 <end>를 없애면 소스 문장, \n",
    "첫 단어 <start>를 없애면 타겟 문장이 되겠죠? \n",
    "이 정제 함수를 활용해서 아래와 같이 정제 데이터를 구축합니다!"
   ]
  },
  {
   "cell_type": "code",
   "execution_count": 9,
   "id": "7f3770cb",
   "metadata": {},
   "outputs": [
    {
     "data": {
      "text/plain": [
       "['<start> before we proceed any further , hear me speak . <end>',\n",
       " '<start> speak , speak . <end>',\n",
       " '<start> you are all resolved rather to die than to famish ? <end>',\n",
       " '<start> resolved . resolved . <end>',\n",
       " '<start> first , you know caius marcius is chief enemy to the people . <end>',\n",
       " '<start> we know t , we know t . <end>',\n",
       " '<start> let us kill him , and we ll have corn at our own price . <end>',\n",
       " '<start> is t a verdict ? <end>',\n",
       " '<start> no more talking on t let it be done away , away ! <end>',\n",
       " '<start> one word , good citizens . <end>']"
      ]
     },
     "execution_count": 9,
     "metadata": {},
     "output_type": "execute_result"
    }
   ],
   "source": [
    "# 여기에 정제된 문장을 모을겁니다\n",
    "corpus = []\n",
    "\n",
    "for sentence in raw_corpus:\n",
    "    # 우리가 원하지 않는 문장은 건너뜁니다\n",
    "    if len(sentence) == 0: continue\n",
    "    if sentence[-1] == \":\": continue\n",
    "    \n",
    "    # 정제를 하고 담아주세요\n",
    "    preprocessed_sentence = preprocess_sentence(sentence)\n",
    "    corpus.append(preprocessed_sentence)\n",
    "        \n",
    "# 정제된 결과를 10개만 확인해보죠\n",
    "corpus[:10]"
   ]
  },
  {
   "cell_type": "markdown",
   "id": "0700f0da",
   "metadata": {},
   "source": [
    "## 벡터화 \n",
    "인공지능의 모국어라면 단연 숫자 겠죠. 우리는 가르칠 언어(데이터)를 숫자로 변환해서 인공지능에게 줄 겁니다. \n",
    "이에 필요한 것은 사전 텐서플로우는 자연어 처리를 위한 여러 가지 모듈을 제공하는데, 우리도 그 모듈을 십분 활용할 겁니다! \n",
    "아래에서 활용하게 될 tf.keras.preprocessing.text.Tokenizer 패키지는 정제된 데이터를 토큰화하고, \n",
    "단어 사전(vocabulary 또는 dictionary라고 칭함)을 만들어주며, \n",
    "데이터를 숫자로 변환까지 한 방에 해줍니다. \n",
    "\n",
    "이 과정을 벡터화(vectorize) 라 하며, 숫자로 변환된 데이터를 텐서(tensor) 라고 칭합니다. \n",
    "우리가 사용하는 텐서플로우로 만든 모델의 입출력 데이터는 실제로는 모두 이런 텐서로 변환되어 처리되는 것입니다."
   ]
  },
  {
   "cell_type": "code",
   "execution_count": 10,
   "id": "9694226f",
   "metadata": {},
   "outputs": [
    {
     "name": "stdout",
     "output_type": "stream",
     "text": [
      "[[   2  143   40 ...    0    0    0]\n",
      " [   2  110    4 ...    0    0    0]\n",
      " [   2   11   50 ...    0    0    0]\n",
      " ...\n",
      " [   2  149 4553 ...    0    0    0]\n",
      " [   2   34   71 ...    0    0    0]\n",
      " [   2  945   34 ...    0    0    0]] <keras_preprocessing.text.Tokenizer object at 0x7f8f2e3082b0>\n"
     ]
    }
   ],
   "source": [
    "# 토큰화 할 때 텐서플로우의 Tokenizer와 pad_sequences를 사용합니다\n",
    "# 더 잘 알기 위해 아래 문서들을 참고하면 좋습니다\n",
    "# https://www.tensorflow.org/api_docs/python/tf/keras/preprocessing/text/Tokenizer\n",
    "# https://www.tensorflow.org/api_docs/python/tf/keras/preprocessing/sequence/pad_sequences\n",
    "def tokenize(corpus):\n",
    "    # 7000단어를 기억할 수 있는 tokenizer를 만들겁니다\n",
    "    # 우리는 이미 문장을 정제했으니 filters가 필요없어요\n",
    "    # 7000단어에 포함되지 못한 단어는 '<unk>'로 바꿀거에요\n",
    "    tokenizer = tf.keras.preprocessing.text.Tokenizer(\n",
    "        num_words=7000, \n",
    "        filters=' ',\n",
    "        oov_token=\"<unk>\"\n",
    "    )\n",
    "    # corpus를 이용해 tokenizer 내부의 단어장을 완성합니다\n",
    "    tokenizer.fit_on_texts(corpus)\n",
    "    # 준비한 tokenizer를 이용해 corpus를 Tensor로 변환합니다\n",
    "    tensor = tokenizer.texts_to_sequences(corpus)   \n",
    "    # 입력 데이터의 시퀀스 길이를 일정하게 맞춰줍니다\n",
    "    # 만약 시퀀스가 짧다면 문장 뒤에 패딩을 붙여 길이를 맞춰줍니다.\n",
    "    # 문장 앞에 패딩을 붙여 길이를 맞추고 싶다면 padding='pre'를 사용합니다\n",
    "    tensor = tf.keras.preprocessing.sequence.pad_sequences(tensor, padding='post')  \n",
    "    \n",
    "    print(tensor,tokenizer)\n",
    "    return tensor, tokenizer\n",
    "\n",
    "tensor, tokenizer = tokenize(corpus)"
   ]
  },
  {
   "cell_type": "code",
   "execution_count": 79,
   "id": "bcd8c185",
   "metadata": {},
   "outputs": [
    {
     "name": "stdout",
     "output_type": "stream",
     "text": [
      "[[   2   50    5   91  304   62   57    9  952 6081    3    0    0    0\n",
      "     0    0    0    0    0    0    0    0    0    0    0    0    0    0\n",
      "     0    0    0    0    0]\n",
      " [   2   17 2979  888    4    8   11 6082    6  354    3    0    0    0\n",
      "     0    0    0    0    0    0    0    0    0    0    0    0    0    0\n",
      "     0    0    0    0    0]\n",
      " [   2   32    7   35   15  162  285   28  335    4   48    7   44    3\n",
      "     0    0    0    0    0    0    0    0    0    0    0    0    0    0\n",
      "     0    0    0    0    0]\n",
      " [   2   11  347   24   42    3    0    0    0    0    0    0    0    0\n",
      "     0    0    0    0    0    0    0    0    0    0    0    0    0    0\n",
      "     0    0    0    0    0]\n",
      " [   2    6 4735    4    6 2182    3    0    0    0    0    0    0    0\n",
      "     0    0    0    0    0    0    0    0    0    0    0    0    0    0\n",
      "     0    0    0    0    0]\n",
      " [   2    6 5650  297    4    6 1210  780    3    0    0    0    0    0\n",
      "     0    0    0    0    0    0    0    0    0    0    0    0    0    0\n",
      "     0    0    0    0    0]\n",
      " [   2    6    1  505    1 1026 1026    3    0    0    0    0    0    0\n",
      "     0    0    0    0    0    0    0    0    0    0    0    0    0    0\n",
      "     0    0    0    0    0]\n",
      " [   2 1026    3    0    0    0    0    0    0    0    0    0    0    0\n",
      "     0    0    0    0    0    0    0    0    0    0    0    0    0    0\n",
      "     0    0    0    0    0]\n",
      " [   2 1026    3    0    0    0    0    0    0    0    0    0    0    0\n",
      "     0    0    0    0    0    0    0    0    0    0    0    0    0    0\n",
      "     0    0    0    0    0]\n",
      " [   2 1026   21  884   57  562   32    7  953 1757    3    0    0    0\n",
      "     0    0    0    0    0    0    0    0    0    0    0    0    0    0\n",
      "     0    0    0    0    0]]\n"
     ]
    }
   ],
   "source": [
    "# 생성된 텐서 데이터를 3번째 행, 10번째 열까지만 출력\n",
    "print(tensor[:10, :])"
   ]
  },
  {
   "cell_type": "markdown",
   "id": "8cd254bc",
   "metadata": {},
   "source": [
    "===>텐서 데이터는 모두 정수로 이루어져 있습니다. 이 숫자는 다름 아니라, tokenizer에 구축된 단어 사전의 인덱스"
   ]
  },
  {
   "cell_type": "markdown",
   "id": "e14d5c41",
   "metadata": {},
   "source": [
    "단어 사전이 어떻게 구축되었는지 아래와 같이 확인"
   ]
  },
  {
   "cell_type": "code",
   "execution_count": 12,
   "id": "eed1c411",
   "metadata": {},
   "outputs": [
    {
     "name": "stdout",
     "output_type": "stream",
     "text": [
      "1 : <unk>\n",
      "2 : <start>\n",
      "3 : <end>\n",
      "4 : ,\n",
      "5 : .\n",
      "6 : the\n",
      "7 : and\n",
      "8 : i\n",
      "9 : to\n",
      "10 : of\n"
     ]
    }
   ],
   "source": [
    "for idx in tokenizer.index_word:\n",
    "    print(idx, \":\", tokenizer.index_word[idx])\n",
    "\n",
    "    if idx >= 10: break"
   ]
  },
  {
   "cell_type": "markdown",
   "id": "0b8078a0",
   "metadata": {},
   "source": [
    "===> 어떻습니까? 2번 인덱스가 바로 <start>였습니다. 왜 모든 행이 2로 시작하는지 이해할 수 있겠습니다."
   ]
  },
  {
   "cell_type": "markdown",
   "id": "ea3c162e",
   "metadata": {},
   "source": [
    "### 생성된 텐서를 소스와 타겟으로 분리"
   ]
  },
  {
   "cell_type": "markdown",
   "id": "dc4ea091",
   "metadata": {},
   "source": [
    "이제 생성된 텐서를 소스와 타겟으로 분리하여 모델이 학습할 수 있게 하겠습니다. \n",
    "이 과정도 텐서플로우 가 제공하는 모듈을 사용할 것이니, 어떻게 사용하는지만 눈여겨 봐둡시다.\n",
    "\n",
    "텐서 출력부에서 행 뒤쪽에 0이 많이 나온 부분은 정해진 입력 시퀀스 길이보다 문장이 짧을 경우 0으로 패딩(padding)을 채워 넣은 것입니다. \n",
    "사전에는 없지만 0은 바로 패딩 문자 <pad>가 될 것입니다."
   ]
  },
  {
   "cell_type": "code",
   "execution_count": 13,
   "id": "b21d68cb",
   "metadata": {},
   "outputs": [
    {
     "name": "stdout",
     "output_type": "stream",
     "text": [
      "[  2 143  40 933 140 591   4 124  24 110   5   3   0   0   0   0   0   0\n",
      "   0   0]\n",
      "[143  40 933 140 591   4 124  24 110   5   3   0   0   0   0   0   0   0\n",
      "   0   0]\n"
     ]
    }
   ],
   "source": [
    "# tensor에서 마지막 토큰을 잘라내서 소스 문장을 생성합니다\n",
    "# 마지막 토큰은 <end>가 아니라 <pad>일 가능성이 높습니다.\n",
    "src_input = tensor[:, :-1]  \n",
    "# tensor에서 <start>를 잘라내서 타겟 문장을 생성합니다.\n",
    "tgt_input = tensor[:, 1:]    \n",
    "\n",
    "print(src_input[0])\n",
    "print(tgt_input[0])"
   ]
  },
  {
   "cell_type": "markdown",
   "id": "ad8bda44",
   "metadata": {},
   "source": [
    "### 데이터셋 객체 생성\n",
    "tf.data.Dataset.from_tensor_slices() 메소드를 이용해 tf.data.Dataset객체를 생성할 것입니다."
   ]
  },
  {
   "cell_type": "code",
   "execution_count": 15,
   "id": "751bb583",
   "metadata": {},
   "outputs": [
    {
     "data": {
      "text/plain": [
       "<BatchDataset shapes: ((256, 20), (256, 20)), types: (tf.int32, tf.int32)>"
      ]
     },
     "execution_count": 15,
     "metadata": {},
     "output_type": "execute_result"
    }
   ],
   "source": [
    "BUFFER_SIZE = len(src_input)\n",
    "BATCH_SIZE = 256\n",
    "steps_per_epoch = len(src_input) // BATCH_SIZE\n",
    "\n",
    " # tokenizer가 구축한 단어사전 내 7000개와, 여기 포함되지 않은 0:<pad>를 포함하여 7001개\n",
    "VOCAB_SIZE = tokenizer.num_words + 1   \n",
    "\n",
    "# 준비한 데이터 소스로부터 데이터셋을 만듭니다\n",
    "# 데이터셋에 대해서는 아래 문서를 참고하세요\n",
    "# 자세히 알아둘수록 도움이 많이 되는 중요한 문서입니다\n",
    "# https://www.tensorflow.org/api_docs/python/tf/data/Dataset\n",
    "dataset = tf.data.Dataset.from_tensor_slices((src_input, tgt_input))\n",
    "dataset = dataset.shuffle(BUFFER_SIZE)\n",
    "dataset = dataset.batch(BATCH_SIZE, drop_remainder=True)\n",
    "dataset"
   ]
  },
  {
   "cell_type": "markdown",
   "id": "2e1557fc",
   "metadata": {},
   "source": [
    "## 실습(2) 인공지능 학습시키기"
   ]
  },
  {
   "attachments": {
    "image.png": {
     "image/png": "[encoded data removed]"
    }
   },
   "cell_type": "markdown",
   "id": "5b85f15e",
   "metadata": {},
   "source": [
    "![image.png](attachment:image.png)"
   ]
  },
  {
   "cell_type": "code",
   "execution_count": 16,
   "id": "f3a6f457",
   "metadata": {},
   "outputs": [],
   "source": [
    "class TextGenerator(tf.keras.Model):\n",
    "    def __init__(self, vocab_size, embedding_size, hidden_size):\n",
    "        super().__init__()\n",
    "        \n",
    "        self.embedding = tf.keras.layers.Embedding(vocab_size, embedding_size)\n",
    "        self.rnn_1 = tf.keras.layers.LSTM(hidden_size, return_sequences=True)\n",
    "        self.rnn_2 = tf.keras.layers.LSTM(hidden_size, return_sequences=True)\n",
    "        self.linear = tf.keras.layers.Dense(vocab_size)\n",
    "        \n",
    "    def call(self, x):\n",
    "        out = self.embedding(x)\n",
    "        out = self.rnn_1(out)\n",
    "        out = self.rnn_2(out)\n",
    "        out = self.linear(out)\n",
    "        \n",
    "        return out\n",
    "    \n",
    "embedding_size = 256\n",
    "hidden_size = 1024\n",
    "model = TextGenerator(tokenizer.num_words + 1, embedding_size , hidden_size)"
   ]
  },
  {
   "cell_type": "markdown",
   "id": "c6858d79",
   "metadata": {},
   "source": [
    "===> embedding_size 는 워드 벡터의 차원수, 즉 단어가 추상적으로 표현되는 크기, 이번 실습에서는 256이 적당해 보이네요.       \n",
    "\n",
    "===> LSTM 레이어의 hidden state 의 차원수인 hidden_size 도 같은 맥락입니다. hidden_size 는 모델에 얼마나 많은 일꾼을 둘 것인가? 로 이해해도 크게 엇나가지 않습니다. 그 일꾼들은 모두 같은 데이터를 보고 각자의 생각을 가지는데, 역시 충분한 데이터가 주어지면 올바른 결정을 내리겠지만 그렇지 않으면 배가 산으로 갈 뿐 입니다. 이번 실습에는 1024가 적당해보이는군요."
   ]
  },
  {
   "cell_type": "code",
   "execution_count": 17,
   "id": "33fe9da0",
   "metadata": {},
   "outputs": [
    {
     "data": {
      "text/plain": [
       "<tf.Tensor: shape=(256, 20, 7001), dtype=float32, numpy=\n",
       "array([[[-1.22744063e-06, -3.30609444e-04, -5.91426870e-05, ...,\n",
       "         -4.20275843e-04, -2.05237855e-04,  5.36298357e-05],\n",
       "        [ 1.13219910e-04, -6.76916796e-04,  4.56034795e-05, ...,\n",
       "         -4.53607587e-04, -4.09457280e-04,  1.61670527e-04],\n",
       "        [ 1.11592155e-04, -8.51868244e-04, -1.68832790e-04, ...,\n",
       "         -1.68974366e-04, -5.54485479e-04,  2.98661849e-04],\n",
       "        ...,\n",
       "        [ 1.20026304e-03, -5.88439812e-04,  9.20215622e-04, ...,\n",
       "          3.51817277e-03,  1.14534248e-03, -3.02747847e-03],\n",
       "        [ 1.37954275e-03, -8.90831754e-04,  9.57276032e-04, ...,\n",
       "          3.91757721e-03,  1.06083823e-03, -3.34095745e-03],\n",
       "        [ 1.52265327e-03, -1.17925997e-03,  1.00422709e-03, ...,\n",
       "          4.23588883e-03,  9.83174308e-04, -3.59016308e-03]],\n",
       "\n",
       "       [[-1.22744063e-06, -3.30609444e-04, -5.91426870e-05, ...,\n",
       "         -4.20275843e-04, -2.05237855e-04,  5.36298357e-05],\n",
       "        [-9.20200109e-05, -3.84880754e-04,  4.49430627e-06, ...,\n",
       "         -7.62744516e-04, -4.16897878e-04, -1.94432196e-05],\n",
       "        [-4.55640169e-04, -5.91918419e-04,  2.70579592e-04, ...,\n",
       "         -1.06479076e-03, -6.65885105e-04, -2.85524820e-05],\n",
       "        ...,\n",
       "        [ 1.75642164e-03, -6.93685783e-04,  6.56925899e-04, ...,\n",
       "          2.13521835e-03,  3.89240391e-04, -2.81215762e-03],\n",
       "        [ 1.86600501e-03, -8.93512159e-04,  7.80718809e-04, ...,\n",
       "          2.76602898e-03,  3.63161322e-04, -3.17221670e-03],\n",
       "        [ 1.94053608e-03, -1.10627641e-03,  8.82618246e-04, ...,\n",
       "          3.28664086e-03,  3.44217900e-04, -3.46734538e-03]],\n",
       "\n",
       "       [[-1.22744063e-06, -3.30609444e-04, -5.91426870e-05, ...,\n",
       "         -4.20275843e-04, -2.05237855e-04,  5.36298357e-05],\n",
       "        [ 1.83841421e-05, -4.92075342e-04, -1.35662849e-04, ...,\n",
       "         -5.64023445e-04, -2.42896334e-04,  1.89625120e-04],\n",
       "        [ 3.93537688e-04, -7.33158726e-04,  2.23215357e-05, ...,\n",
       "         -6.12713571e-04, -8.85946938e-05,  2.56734900e-04],\n",
       "        ...,\n",
       "        [ 1.85625593e-03, -1.29843794e-03,  5.35753497e-04, ...,\n",
       "          3.55926133e-03,  2.96282116e-04, -3.85761005e-03],\n",
       "        [ 1.90639624e-03, -1.51457370e-03,  6.22204039e-04, ...,\n",
       "          3.94302746e-03,  3.00950021e-04, -4.06054547e-03],\n",
       "        [ 1.93760451e-03, -1.72317377e-03,  7.09160231e-04, ...,\n",
       "          4.23794752e-03,  3.08210554e-04, -4.21037804e-03]],\n",
       "\n",
       "       ...,\n",
       "\n",
       "       [[-1.22744063e-06, -3.30609444e-04, -5.91426870e-05, ...,\n",
       "         -4.20275843e-04, -2.05237855e-04,  5.36298357e-05],\n",
       "        [ 5.78869503e-06, -8.22921575e-04, -6.07656002e-05, ...,\n",
       "         -6.78871525e-04, -1.88040955e-04, -1.24568644e-04],\n",
       "        [-1.10328539e-04, -1.02413329e-03,  1.67926919e-04, ...,\n",
       "         -7.36476853e-04, -3.96732758e-05, -2.83525442e-04],\n",
       "        ...,\n",
       "        [ 2.48074671e-03, -5.26584103e-04,  4.84285527e-04, ...,\n",
       "          3.24624404e-03,  2.40949725e-04, -2.26542982e-03],\n",
       "        [ 2.52450071e-03, -7.36688555e-04,  5.42082475e-04, ...,\n",
       "          3.65791284e-03,  2.62459711e-04, -2.62696878e-03],\n",
       "        [ 2.52640550e-03, -9.63926723e-04,  6.05530571e-04, ...,\n",
       "          3.99361271e-03,  2.82797264e-04, -2.93303095e-03]],\n",
       "\n",
       "       [[-1.22744063e-06, -3.30609444e-04, -5.91426870e-05, ...,\n",
       "         -4.20275843e-04, -2.05237855e-04,  5.36298357e-05],\n",
       "        [ 3.07329344e-08, -1.83930708e-04,  1.64411118e-04, ...,\n",
       "         -1.15995663e-05, -3.05357302e-04,  2.47998832e-04],\n",
       "        [ 6.07184256e-06, -1.32047149e-04, -7.20808603e-05, ...,\n",
       "          3.01554130e-04, -1.51610147e-04,  5.09472156e-04],\n",
       "        ...,\n",
       "        [ 1.91991183e-03, -1.93206011e-04, -1.50984371e-04, ...,\n",
       "          1.75840198e-03,  4.71215637e-04, -1.40471640e-03],\n",
       "        [ 2.09742505e-03, -4.40238888e-04,  4.39850301e-05, ...,\n",
       "          2.30581569e-03,  4.00877791e-04, -1.93648099e-03],\n",
       "        [ 2.21102848e-03, -7.04485632e-04,  2.11417908e-04, ...,\n",
       "          2.78541376e-03,  3.50476563e-04, -2.40000850e-03]],\n",
       "\n",
       "       [[-1.22744063e-06, -3.30609444e-04, -5.91426870e-05, ...,\n",
       "         -4.20275843e-04, -2.05237855e-04,  5.36298357e-05],\n",
       "        [-2.03040341e-04, -5.02190611e-04, -6.57212076e-05, ...,\n",
       "         -5.12366998e-04, -2.70325661e-04,  2.21289170e-04],\n",
       "        [-2.19119509e-04, -5.73535159e-04,  1.82012256e-04, ...,\n",
       "         -2.11201361e-04, -4.18883486e-04,  4.71471751e-04],\n",
       "        ...,\n",
       "        [ 1.70962967e-03, -1.89780738e-04,  3.58191115e-04, ...,\n",
       "          2.83915317e-03, -8.26351898e-05, -2.33181147e-03],\n",
       "        [ 1.87984761e-03, -4.16317314e-04,  3.92996677e-04, ...,\n",
       "          3.37194698e-03,  1.64743869e-06, -2.72550480e-03],\n",
       "        [ 1.99927972e-03, -6.64840860e-04,  4.45333688e-04, ...,\n",
       "          3.80471954e-03,  8.39745917e-05, -3.05608660e-03]]],\n",
       "      dtype=float32)>"
      ]
     },
     "execution_count": 17,
     "metadata": {},
     "output_type": "execute_result"
    }
   ],
   "source": [
    "# 데이터셋에서 데이터 한 배치만 불러오는 방법입니다.\n",
    "# 지금은 동작 원리에 너무 빠져들지 마세요~\n",
    "for src_sample, tgt_sample in dataset.take(1): break\n",
    "\n",
    "# 한 배치만 불러온 데이터를 모델에 넣어봅니다\n",
    "model(src_sample)"
   ]
  },
  {
   "cell_type": "markdown",
   "id": "d5688398",
   "metadata": {},
   "source": [
    "모델의 최종 출력 텐서 shape를 유심히 보면 shape=(256, 20, 7001)임을 알 수 있습니다. \n",
    "7001은 Dense 레이어의 출력 차원수입니다. \n",
    "7001개의 단어 중 어느 단어의 확률이 가장 높을지를 모델링해야 하기 때문입니다.\n",
    "256은 이전 스텝에서 지정한 배치 사이즈입니다. \n",
    "dataset.take(1)를 통해서 1개의 배치, 즉 256개의 문장 데이터를 가져온 것입니다.\n",
    "\n",
    "그렇다면 20은 무엇을 의미할까요? \n",
    "비밀은 바로 tf.keras.layers.LSTM(hidden_size, return_sequences=True)로 호출한 LSTM 레이어에서 return_sequences=True이라고 지정한 부분에 있습니다. \n",
    "즉, LSTM은 자신에게 입력된 시퀀스의 길이만큼 동일한 길이의 시퀀스를 출력한다는 의미입니다. \n",
    "만약 return_sequences=False였다면 LSTM 레이어는 1개의 벡터만 출력했을 것입니다.\n",
    "\n",
    "그런데 문제는, 우리의 모델은 입력 데이터의 시퀀스 길이가 얼마인지 모른다는 점입니다. \n",
    "모델을 만들면서 알려준 적도 없습니다. \n",
    "그럼 20은 언제 알게된 것일까요? \n",
    "네, 그렇습니다. 데이터를 입력받으면서 비로소 알게 된 것입니다. \n",
    "우리 데이터셋의 max_len이 20으로 맞춰져 있었던 것입니다"
   ]
  },
  {
   "cell_type": "code",
   "execution_count": 18,
   "id": "51e4417e",
   "metadata": {},
   "outputs": [
    {
     "name": "stdout",
     "output_type": "stream",
     "text": [
      "Model: \"text_generator\"\n",
      "_________________________________________________________________\n",
      "Layer (type)                 Output Shape              Param #   \n",
      "=================================================================\n",
      "embedding (Embedding)        multiple                  1792256   \n",
      "_________________________________________________________________\n",
      "lstm (LSTM)                  multiple                  5246976   \n",
      "_________________________________________________________________\n",
      "lstm_1 (LSTM)                multiple                  8392704   \n",
      "_________________________________________________________________\n",
      "dense (Dense)                multiple                  7176025   \n",
      "=================================================================\n",
      "Total params: 22,607,961\n",
      "Trainable params: 22,607,961\n",
      "Non-trainable params: 0\n",
      "_________________________________________________________________\n"
     ]
    }
   ],
   "source": [
    "model.summary()"
   ]
  },
  {
   "cell_type": "markdown",
   "id": "c0ae9f4f",
   "metadata": {},
   "source": [
    "우리가 궁금했던 Output Shape를 정확하게 알려주지 않습니다. \n",
    "\n",
    "우리의 모델은 입력 시퀀스의 길이를 모르기 때문에 Output Shape를 특정할 수 없는 것입니다."
   ]
  },
  {
   "cell_type": "code",
   "execution_count": 19,
   "id": "628af1a7",
   "metadata": {},
   "outputs": [
    {
     "name": "stdout",
     "output_type": "stream",
     "text": [
      "Epoch 1/30\n",
      "93/93 [==============================] - 39s 401ms/step - loss: 3.4396\n",
      "Epoch 2/30\n",
      "93/93 [==============================] - 37s 396ms/step - loss: 2.7892\n",
      "Epoch 3/30\n",
      "93/93 [==============================] - 33s 349ms/step - loss: 2.6692\n",
      "Epoch 4/30\n",
      "93/93 [==============================] - 37s 399ms/step - loss: 2.5742\n",
      "Epoch 5/30\n",
      "93/93 [==============================] - 37s 398ms/step - loss: 2.5121\n",
      "Epoch 6/30\n",
      "93/93 [==============================] - 37s 398ms/step - loss: 2.4491\n",
      "Epoch 7/30\n",
      "93/93 [==============================] - 37s 398ms/step - loss: 2.3885\n",
      "Epoch 8/30\n",
      "93/93 [==============================] - 37s 397ms/step - loss: 2.3333\n",
      "Epoch 9/30\n",
      "93/93 [==============================] - 33s 349ms/step - loss: 2.2804\n",
      "Epoch 10/30\n",
      "93/93 [==============================] - 37s 397ms/step - loss: 2.2261\n",
      "Epoch 11/30\n",
      "93/93 [==============================] - 37s 401ms/step - loss: 2.1740\n",
      "Epoch 12/30\n",
      "93/93 [==============================] - 37s 400ms/step - loss: 2.1219\n",
      "Epoch 13/30\n",
      "93/93 [==============================] - 37s 398ms/step - loss: 2.0687\n",
      "Epoch 14/30\n",
      "93/93 [==============================] - 33s 355ms/step - loss: 2.0144\n",
      "Epoch 15/30\n",
      "93/93 [==============================] - 37s 398ms/step - loss: 1.9611\n",
      "Epoch 16/30\n",
      "93/93 [==============================] - 37s 398ms/step - loss: 1.9057\n",
      "Epoch 17/30\n",
      "93/93 [==============================] - 37s 398ms/step - loss: 1.8491\n",
      "Epoch 18/30\n",
      "93/93 [==============================] - 37s 398ms/step - loss: 1.7933\n",
      "Epoch 19/30\n",
      "93/93 [==============================] - 37s 400ms/step - loss: 1.7364\n",
      "Epoch 20/30\n",
      "93/93 [==============================] - 37s 400ms/step - loss: 1.6787\n",
      "Epoch 21/30\n",
      "93/93 [==============================] - 37s 400ms/step - loss: 1.6209\n",
      "Epoch 22/30\n",
      "93/93 [==============================] - 37s 400ms/step - loss: 1.5618\n",
      "Epoch 23/30\n",
      "93/93 [==============================] - 37s 401ms/step - loss: 1.5041\n",
      "Epoch 24/30\n",
      "93/93 [==============================] - 37s 399ms/step - loss: 1.4437\n",
      "Epoch 25/30\n",
      "93/93 [==============================] - 37s 398ms/step - loss: 1.3811\n",
      "Epoch 26/30\n",
      "93/93 [==============================] - 32s 343ms/step - loss: 1.3218\n",
      "Epoch 27/30\n",
      "93/93 [==============================] - 18s 188ms/step - loss: 1.2602\n",
      "Epoch 28/30\n",
      "93/93 [==============================] - 18s 189ms/step - loss: 1.1971\n",
      "Epoch 29/30\n",
      "93/93 [==============================] - 18s 189ms/step - loss: 1.1357\n",
      "Epoch 30/30\n",
      "93/93 [==============================] - 18s 189ms/step - loss: 1.0759\n"
     ]
    },
    {
     "data": {
      "text/plain": [
       "<keras.callbacks.History at 0x7f8e99d9b610>"
      ]
     },
     "execution_count": 19,
     "metadata": {},
     "output_type": "execute_result"
    }
   ],
   "source": [
    "# 모델 학습시키기\n",
    "# optimizer와 loss등은 차차 배웁니다\n",
    "# 혹시 미리 알고 싶다면 아래 문서를 참고하세요\n",
    "# https://www.tensorflow.org/api_docs/python/tf/keras/optimizers\n",
    "# https://www.tensorflow.org/api_docs/python/tf/keras/losses\n",
    "# 양이 상당히 많은 편이니 지금 보는 것은 추천하지 않습니다\n",
    "optimizer = tf.keras.optimizers.Adam()\n",
    "loss = tf.keras.losses.SparseCategoricalCrossentropy(\n",
    "    from_logits=True,\n",
    "    reduction='none'\n",
    ")\n",
    "\n",
    "model.compile(loss=loss, optimizer=optimizer)\n",
    "model.fit(dataset, epochs=30)"
   ]
  },
  {
   "cell_type": "markdown",
   "id": "56c97dfb",
   "metadata": {},
   "source": [
    "===> Loss는 모델이 오답을 만들고 있는 정도라고 생각하셔도 좋습니다(그렇다고 Loss가 1일 때 99%를 맞추고 있다는 의미는 아닙니다). \n",
    "오답률이 감소하고 있으니 학습이 잘 진행되고 있다 고 해석할 수 있죠"
   ]
  },
  {
   "cell_type": "markdown",
   "id": "9588ca80",
   "metadata": {},
   "source": [
    "## 실습(3) 평가하기"
   ]
  },
  {
   "cell_type": "code",
   "execution_count": 20,
   "id": "ec3865cb",
   "metadata": {},
   "outputs": [],
   "source": [
    "# 모델에게 시작 문장을 전달하면 모델이 시작 문장을 바탕으로 작문을 진행하게 합니다\n",
    "def generate_text(model, tokenizer, init_sentence=\"<start>\", max_len=20):\n",
    "    # 테스트를 위해서 입력받은 init_sentence도 텐서로 변환합니다\n",
    "    test_input = tokenizer.texts_to_sequences([init_sentence])\n",
    "    test_tensor = tf.convert_to_tensor(test_input, dtype=tf.int64)\n",
    "    end_token = tokenizer.word_index[\"<end>\"]\n",
    "\n",
    "    # 단어 하나씩 예측해 문장을 만듭니다\n",
    "    #    1. 입력받은 문장의 텐서를 입력합니다\n",
    "    #    2. 예측된 값 중 가장 높은 확률인 word index를 뽑아냅니다\n",
    "    #    3. 2에서 예측된 word index를 문장 뒤에 붙입니다\n",
    "    #    4. 모델이 <end>를 예측했거나, max_len에 도달했다면 문장 생성을 마칩니다\n",
    "    while True:\n",
    "        # 1\n",
    "        predict = model(test_tensor) \n",
    "        # 2\n",
    "        predict_word = tf.argmax(tf.nn.softmax(predict, axis=-1), axis=-1)[:, -1] \n",
    "        # 3 \n",
    "        test_tensor = tf.concat([test_tensor, tf.expand_dims(predict_word, axis=0)], axis=-1)\n",
    "        # 4\n",
    "        if predict_word.numpy()[0] == end_token: break\n",
    "        if test_tensor.shape[1] >= max_len: break\n",
    "\n",
    "    generated = \"\"\n",
    "    # tokenizer를 이용해 word index를 단어로 하나씩 변환합니다 \n",
    "    for word_index in test_tensor[0].numpy():\n",
    "        generated += tokenizer.index_word[word_index] + \" \"\n",
    "\n",
    "    return generated"
   ]
  },
  {
   "cell_type": "markdown",
   "id": "efd1ef70",
   "metadata": {},
   "source": [
    "generate_text() 함수에서 init_sentence를 인자로 받고는 있습니다. \n",
    "이렇게 받은 인자를 일단 텐서로 만들고 있습니다. 디폴트로는 <start> 단어 하나만 받는군요.\n",
    "\n",
    "while의 첫 번째 루프에서 test_tensor에 <start> 하나만 들어갔다고 합시다. 우리의 모델이 출력으로 7001개의 단어 중 A를 골랐다고 합시다.\n",
    "    \n",
    "while의 두 번째 루프에서 test_tensor에는 <start> A가 들어갑니다. 그래서 우리의 모델이 그다음 B를 골랐다고 합시다.\n",
    "    \n",
    "while의 세 번째 루프에서 test_tensor에는 <start> A B가 들어갑니다. 그래서..... (이하 후략)"
   ]
  },
  {
   "cell_type": "code",
   "execution_count": 22,
   "id": "c24d0fdc",
   "metadata": {},
   "outputs": [
    {
     "data": {
      "text/plain": [
       "'<start> he s not prepared for death . <end> '"
      ]
     },
     "execution_count": 22,
     "metadata": {},
     "output_type": "execute_result"
    }
   ],
   "source": [
    "#문장 생성함수 실행\n",
    "generate_text(model, tokenizer, init_sentence=\"<start> he\")"
   ]
  },
  {
   "cell_type": "markdown",
   "id": "66b362ba",
   "metadata": {},
   "source": [
    "===> 제법 멋진 문장을 생성해냈군요! 위 함수의 init_sentence 를 바꿔가며 이런저런 실험을 해보세요! 단, <start>를 빼먹지는 않도록 합시다."
   ]
  },
  {
   "cell_type": "markdown",
   "id": "c4bf3e31",
   "metadata": {},
   "source": [
    "# 프로젝트: 멋진 작사가 만들기"
   ]
  },
  {
   "cell_type": "markdown",
   "id": "a2a60bfa",
   "metadata": {},
   "source": [
    "## step1. 데이터 다운로드"
   ]
  },
  {
   "cell_type": "markdown",
   "id": "9a3fe2d7",
   "metadata": {},
   "source": [
    "이미 실습(1) 데이터 다듬기에서 Cloud shell에 심볼릭 링크로 ~/aiffel/lyricist/data를 생성하셨다면, \n",
    "~/aiffel/lyricist/data/lyrics에 데이터가 있습니다."
   ]
  },
  {
   "cell_type": "markdown",
   "id": "00906e1c",
   "metadata": {},
   "source": [
    "## step2. 데이터 읽어오기"
   ]
  },
  {
   "cell_type": "code",
   "execution_count": 31,
   "id": "c39d36cc",
   "metadata": {},
   "outputs": [
    {
     "name": "stdout",
     "output_type": "stream",
     "text": [
      "데이터 크기: 187088\n",
      "Examples:\n",
      " [\"Now I've heard there was a secret chord\", 'That David played, and it pleased the Lord', \"But you don't really care for music, do you?\"]\n"
     ]
    }
   ],
   "source": [
    "import glob\n",
    "\n",
    "import os, re \n",
    "import numpy as np\n",
    "import tensorflow as tf\n",
    "\n",
    "txt_file_path = os.getenv('HOME')+'/aiffel/lyricist/data/lyrics/*'\n",
    "\n",
    "txt_list = glob.glob(txt_file_path)\n",
    "\n",
    "raw_corpus = []\n",
    "\n",
    "# 여러개의 txt 파일을 모두 읽어서 raw_corpus 에 담습니다.\n",
    "for txt_file in txt_list:\n",
    "    with open(txt_file, \"r\") as f:\n",
    "        raw = f.read().splitlines()\n",
    "        raw_corpus.extend(raw)\n",
    "\n",
    "print(\"데이터 크기:\", len(raw_corpus))\n",
    "print(\"Examples:\\n\", raw_corpus[:3])"
   ]
  },
  {
   "cell_type": "markdown",
   "id": "0d033afc",
   "metadata": {},
   "source": [
    "## step3. 데이터 정제"
   ]
  },
  {
   "cell_type": "code",
   "execution_count": 32,
   "id": "8503d99b",
   "metadata": {},
   "outputs": [
    {
     "name": "stdout",
     "output_type": "stream",
     "text": [
      "<start> this is sample sentence . <end>\n"
     ]
    }
   ],
   "source": [
    "# 입력된 문장을\n",
    "#     1. 소문자로 바꾸고, 양쪽 공백을 지웁니다\n",
    "#     2. 특수문자 양쪽에 공백을 넣고\n",
    "#     3. 여러개의 공백은 하나의 공백으로 바꿉니다\n",
    "#     4. a-zA-Z?.!,¿가 아닌 모든 문자를 하나의 공백으로 바꿉니다\n",
    "#     5. 다시 양쪽 공백을 지웁니다\n",
    "#     6. 문장 시작에는 <start>, 끝에는 <end>를 추가합니다\n",
    "# 이 순서로 처리해주면 문제가 되는 상황을 방지할 수 있겠네요!\n",
    "def preprocess_sentence(sentence):\n",
    "    sentence = sentence.lower().strip() # 1\n",
    "    sentence = re.sub(r\"([?.!,¿])\", r\" \\1 \", sentence) # 2\n",
    "    sentence = re.sub(r'[\" \"]+', \" \", sentence) # 3\n",
    "    sentence = re.sub(r\"[^a-zA-Z?.!,¿]+\", \" \", sentence) # 4\n",
    "    sentence = sentence.strip() # 5\n",
    "    sentence = '<start> ' + sentence + ' <end>' # 6\n",
    "    return sentence\n",
    "\n",
    "# 이 문장이 어떻게 필터링되는지 확인해 보세요.\n",
    "print(preprocess_sentence(\"This @_is ;;;sample        sentence.\"))"
   ]
  },
  {
   "cell_type": "code",
   "execution_count": 33,
   "id": "4a3f6f7a",
   "metadata": {},
   "outputs": [],
   "source": [
    "# 여기에 정제된 문장을 모을겁니다\n",
    "corpus = []\n",
    "# for sentence in raw_corpus:\n",
    "    \n",
    "#     if len(sentence) == 0: continue\n",
    "#     if sentence[-1] == \":\": continue\n",
    "#     tmp = preprocess_sentence(sentence)\n",
    "    \n",
    "#     if len(tmp.split()) > 15 : continue  #토큰화 했을 때 토큰의 개수가 15개를 넘어가는 문장을 학습 데이터에서 제외하기  (공백 )\n",
    "#     corpus.append(tmp)\n",
    "    \n",
    "#     # 단어장의 크기는 12,000 이상 으로 설정\n",
    "# 위의 방법도 되지만 한글에서는 적용이 안될 수도 있음 why   \n",
    "for sentence in raw_corpus:\n",
    "    # 우리가 원하지 않는 문장은 건너뜁니다\n",
    "    if len(sentence) == 0: continue\n",
    "    if sentence[-1] == \":\": continue\n",
    "    \n",
    "    # 정제를 하고 담아주세요\n",
    "    preprocessed_sentence = preprocess_sentence(sentence)\n",
    "    corpus.append(preprocessed_sentence)\n",
    " "
   ]
  },
  {
   "cell_type": "markdown",
   "id": "52ec2406",
   "metadata": {},
   "source": [
    "## step4. 평가 데이터셋 분리"
   ]
  },
  {
   "cell_type": "code",
   "execution_count": 34,
   "id": "e66a1a01",
   "metadata": {},
   "outputs": [],
   "source": [
    "# 토큰화 할 때 텐서플로우의 Tokenizer와 pad_sequences를 사용합니다\n",
    "\n",
    "def tokenize(corpus):\n",
    "    # 7000단어를 기억할 수 있는 tokenizer를 만들겁니다\n",
    "    # 우리는 이미 문장을 정제했으니 filters가 필요없어요\n",
    "    # 7000단어에 포함되지 못한 단어는 '<unk>'로 바꿀거에요\n",
    "    tokenizer = tf.keras.preprocessing.text.Tokenizer(\n",
    "        num_words=7000, #전체 단어의 수\n",
    "        filters=' ',\n",
    "        oov_token=\"<unk>\" #7000단어에 속하지 않으면 unk로 바꿔줌\n",
    "    )\n",
    "    \n",
    "    \n",
    "    # corpus를 이용해 tokenizer 내부의 단어장을 완성합니다\n",
    "    tokenizer.fit_on_texts(corpus)\n",
    "    # 준비한 tokenizer를 이용해 corpus를 Tensor로 변환합니다\n",
    "    tensor = tokenizer.texts_to_sequences(corpus)   \n",
    "    #한국어 자연어 처리를 하게 되면 공백을 기준으로 나누는 것이  아니라 의미 단위로 분절하게 되어 결과가  다를 수도 있으므로 여기서 처리\n",
    "    tensor = [x for x in tensor if len(x) <= 15] #새로운 방법: 토큰화 했을 때 토큰의 개수가 15개를 넘어가는 문장을 학습 데이터에서 제외하기\n",
    "     \n",
    "    tensor = tf.keras.preprocessing.sequence.pad_sequences(tensor, padding='post')  #토큰의 개수가 15개를 넘어가는 문장을 학습 데이터에서 제외하기\n",
    "            \n",
    "    \n",
    "    #print(tensor,tokenizer)\n",
    "    return tensor, tokenizer\n",
    "\n",
    "tensor, tokenizer = tokenize(corpus)\n"
   ]
  },
  {
   "cell_type": "code",
   "execution_count": 35,
   "id": "8838a344",
   "metadata": {},
   "outputs": [
    {
     "name": "stdout",
     "output_type": "stream",
     "text": [
      "1 : <unk>\n",
      "2 : <start>\n",
      "3 : <end>\n",
      "4 : ,\n",
      "5 : i\n",
      "6 : the\n",
      "7 : you\n",
      "8 : and\n",
      "9 : a\n",
      "10 : to\n"
     ]
    }
   ],
   "source": [
    "for idx in tokenizer.index_word:\n",
    "    print(idx, \":\", tokenizer.index_word[idx])\n",
    "\n",
    "    if idx >= 10: break"
   ]
  },
  {
   "cell_type": "code",
   "execution_count": 36,
   "id": "aa3651f6",
   "metadata": {},
   "outputs": [],
   "source": [
    "# tensor에서 마지막 토큰을 잘라내서 소스 문장을 생성합니다\n",
    "# 마지막 토큰은 <end>가 아니라 <pad>일 가능성이 높습니다.\n",
    "src_input = tensor[:, :-1]  # tensor에서 마지막 토큰을 잘라내서 소스 문장을 생성합니다. 마지막 토큰은 <END>가 아니라 <pad>일 가능성이 높습니다.\n",
    "tgt_input = tensor[:, 1:]    # tensor에서 <START>를 잘라내서 타겟 문장을 생성합니다.\n",
    "\n",
    "#print(src_input[0])\n",
    "#print(tgt_input[0])\n",
    "#print(len(src_input))"
   ]
  },
  {
   "cell_type": "code",
   "execution_count": 37,
   "id": "b2150e9f",
   "metadata": {},
   "outputs": [],
   "source": [
    "from sklearn.model_selection import train_test_split\n",
    "enc_train, enc_val, dec_train, dec_val = train_test_split(src_input, \n",
    "                                                          tgt_input,\n",
    "                                                          test_size=0.2,\n",
    "                                                          shuffle=True, \n",
    "                                                          random_state=34)"
   ]
  },
  {
   "cell_type": "code",
   "execution_count": 38,
   "id": "8aca1a35",
   "metadata": {},
   "outputs": [
    {
     "name": "stdout",
     "output_type": "stream",
     "text": [
      "Source Train:  (124810, 14)\n",
      "Target Train:  (124810, 14)\n"
     ]
    }
   ],
   "source": [
    "print('Source Train: ', enc_train.shape)\n",
    "print('Target Train: ', dec_train.shape)"
   ]
  },
  {
   "cell_type": "markdown",
   "id": "54f1b423",
   "metadata": {},
   "source": [
    "## step5. 인공지능 만들기"
   ]
  },
  {
   "cell_type": "code",
   "execution_count": 133,
   "id": "50de59f1",
   "metadata": {},
   "outputs": [
    {
     "data": {
      "text/plain": [
       "<BatchDataset shapes: ((256, 14), (256, 14)), types: (tf.int32, tf.int32)>"
      ]
     },
     "execution_count": 133,
     "metadata": {},
     "output_type": "execute_result"
    }
   ],
   "source": [
    "BUFFER_SIZE = len(src_input)\n",
    "BATCH_SIZE = 256\n",
    "steps_per_epoch = len(src_input) // BATCH_SIZE\n",
    "\n",
    "VOCAB_SIZE = tokenizer.num_words + 1   \n",
    "\n",
    "dataset = tf.data.Dataset.from_tensor_slices((src_input, tgt_input)).shuffle(BUFFER_SIZE)\n",
    "dataset = dataset.batch(BATCH_SIZE, drop_remainder=True)\n",
    "dataset"
   ]
  },
  {
   "cell_type": "code",
   "execution_count": 134,
   "id": "c3b3798c",
   "metadata": {},
   "outputs": [],
   "source": [
    "class TextGenerator(tf.keras.Model):\n",
    "    def __init__(self, vocab_size, embedding_size, hidden_size):\n",
    "        super().__init__()\n",
    "        \n",
    "        self.embedding = tf.keras.layers.Embedding(vocab_size, embedding_size)\n",
    "        self.rnn_1 = tf.keras.layers.LSTM(hidden_size, return_sequences=True)\n",
    "        self.rnn_2 = tf.keras.layers.LSTM(hidden_size, return_sequences=True)\n",
    "        self.linear = tf.keras.layers.Dense(vocab_size)\n",
    "        \n",
    "    def call(self, x):\n",
    "        out = self.embedding(x)\n",
    "        out = self.rnn_1(out)\n",
    "        out = self.rnn_2(out)\n",
    "        out = self.linear(out)\n",
    "        \n",
    "        return out\n",
    "    \n",
    "embedding_size = 256\n",
    "hidden_size = 1024\n",
    "lyricist = TextGenerator(tokenizer.num_words + 1, embedding_size , hidden_size)"
   ]
  },
  {
   "cell_type": "code",
   "execution_count": 135,
   "id": "5abdcaab",
   "metadata": {},
   "outputs": [
    {
     "name": "stdout",
     "output_type": "stream",
     "text": [
      "Epoch 1/10\n",
      "609/609 [==============================] - 102s 162ms/step - loss: 3.2692 - val_loss: 2.9081\n",
      "Epoch 2/10\n",
      "609/609 [==============================] - 99s 162ms/step - loss: 2.8087 - val_loss: 2.6667\n",
      "Epoch 3/10\n",
      "609/609 [==============================] - 99s 162ms/step - loss: 2.6187 - val_loss: 2.4912\n",
      "Epoch 4/10\n",
      "609/609 [==============================] - 99s 162ms/step - loss: 2.4650 - val_loss: 2.3394\n",
      "Epoch 5/10\n",
      "609/609 [==============================] - 99s 162ms/step - loss: 2.3270 - val_loss: 2.2013\n",
      "Epoch 6/10\n",
      "609/609 [==============================] - 99s 163ms/step - loss: 2.1978 - val_loss: 2.0681\n",
      "Epoch 7/10\n",
      "609/609 [==============================] - 99s 163ms/step - loss: 2.0722 - val_loss: 1.9404\n",
      "Epoch 8/10\n",
      "609/609 [==============================] - 100s 163ms/step - loss: 1.9496 - val_loss: 1.8173\n",
      "Epoch 9/10\n",
      "609/609 [==============================] - 99s 162ms/step - loss: 1.8297 - val_loss: 1.6956\n",
      "Epoch 10/10\n",
      "609/609 [==============================] - 99s 163ms/step - loss: 1.7144 - val_loss: 1.5807\n"
     ]
    },
    {
     "data": {
      "text/plain": [
       "<keras.callbacks.History at 0x7f42d84e4b80>"
      ]
     },
     "execution_count": 135,
     "metadata": {},
     "output_type": "execute_result"
    }
   ],
   "source": [
    "optimizer = tf.keras.optimizers.Adam()\n",
    "loss = tf.keras.losses.SparseCategoricalCrossentropy(\n",
    "    from_logits=True,\n",
    "    reduction='none'\n",
    ")\n",
    "\n",
    "lyricist.compile(loss=loss, optimizer=optimizer)\n",
    "lyricist.fit(dataset, epochs=10, validation_data=(enc_val, dec_val))"
   ]
  },
  {
   "cell_type": "code",
   "execution_count": 136,
   "id": "e08cf2fa",
   "metadata": {},
   "outputs": [],
   "source": [
    "# 모델에게 시작 문장을 전달하면 모델이 시작 문장을 바탕으로 작문을 진행하게 합니다\n",
    "def generate_text(model, tokenizer, init_sentence=\"<start>\", max_len=20):\n",
    "    # 테스트를 위해서 입력받은 init_sentence도 텐서로 변환합니다\n",
    "    test_input = tokenizer.texts_to_sequences([init_sentence])\n",
    "    test_tensor = tf.convert_to_tensor(test_input, dtype=tf.int64)\n",
    "    end_token = tokenizer.word_index[\"<end>\"]\n",
    "\n",
    "    # 단어 하나씩 예측해 문장을 만듭니다\n",
    "    #    1. 입력받은 문장의 텐서를 입력합니다\n",
    "    #    2. 예측된 값 중 가장 높은 확률인 word index를 뽑아냅니다\n",
    "    #    3. 2에서 예측된 word index를 문장 뒤에 붙입니다\n",
    "    #    4. 모델이 <end>를 예측했거나, max_len에 도달했다면 문장 생성을 마칩니다\n",
    "    while True:\n",
    "        # 1\n",
    "        predict = model(test_tensor) \n",
    "        # 2\n",
    "        predict_word = tf.argmax(tf.nn.softmax(predict, axis=-1), axis=-1)[:, -1] \n",
    "        # 3 \n",
    "        test_tensor = tf.concat([test_tensor, tf.expand_dims(predict_word, axis=0)], axis=-1)\n",
    "        # 4\n",
    "        if predict_word.numpy()[0] == end_token: break\n",
    "        if test_tensor.shape[1] >= max_len: break\n",
    "\n",
    "    generated = \"\"\n",
    "    # tokenizer를 이용해 word index를 단어로 하나씩 변환합니다 \n",
    "    for word_index in test_tensor[0].numpy():\n",
    "        generated += tokenizer.index_word[word_index] + \" \"\n",
    "\n",
    "    return generated"
   ]
  },
  {
   "cell_type": "code",
   "execution_count": 138,
   "id": "371e32fd",
   "metadata": {},
   "outputs": [
    {
     "data": {
      "text/plain": [
       "'<start> i love you , i love you <end> '"
      ]
     },
     "execution_count": 138,
     "metadata": {},
     "output_type": "execute_result"
    }
   ],
   "source": [
    "#문장 생성함수 실행\n",
    "generate_text(lyricist, tokenizer, init_sentence=\"<start> i love\", max_len=20)"
   ]
  },
  {
   "cell_type": "code",
   "execution_count": null,
   "id": "e4908f53",
   "metadata": {},
   "outputs": [],
   "source": []
  },
  {
   "cell_type": "code",
   "execution_count": null,
   "id": "7f9ed178",
   "metadata": {},
   "outputs": [],
   "source": []
  }
 ],
 "metadata": {
  "kernelspec": {
   "display_name": "Python 3 (ipykernel)",
   "language": "python",
   "name": "python3"
  },
  "language_info": {
   "codemirror_mode": {
    "name": "ipython",
    "version": 3
   },
   "file_extension": ".py",
   "mimetype": "text/x-python",
   "name": "python",
   "nbconvert_exporter": "python",
   "pygments_lexer": "ipython3",
   "version": "3.9.7"
  }
 },
 "nbformat": 4,
 "nbformat_minor": 5
}
